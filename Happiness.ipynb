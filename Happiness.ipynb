{
  "nbformat": 4,
  "nbformat_minor": 0,
  "metadata": {
    "colab": {
      "provenance": [],
      "authorship_tag": "ABX9TyMfG4igQ5hPs8CbgAvy6XaR",
      "include_colab_link": true
    },
    "kernelspec": {
      "name": "python3",
      "display_name": "Python 3"
    },
    "language_info": {
      "name": "python"
    }
  },
  "cells": [
    {
      "cell_type": "markdown",
      "metadata": {
        "id": "view-in-github",
        "colab_type": "text"
      },
      "source": [
        "<a href=\"https://colab.research.google.com/github/prathameshhire/Happiness/blob/main/Happiness.ipynb\" target=\"_parent\"><img src=\"https://colab.research.google.com/assets/colab-badge.svg\" alt=\"Open In Colab\"/></a>"
      ]
    },
    {
      "cell_type": "code",
      "execution_count": null,
      "metadata": {
        "id": "2gpXTEGxpW7E"
      },
      "outputs": [],
      "source": [
        "import sklearn\n",
        "import pandas as pd\n",
        "from sklearn.datasets import make_classification"
      ]
    },
    {
      "cell_type": "code",
      "source": [
        "data = pd.read_csv('/happiness_data.csv')"
      ],
      "metadata": {
        "id": "tUKMT3Z-rDMO"
      },
      "execution_count": null,
      "outputs": []
    },
    {
      "cell_type": "markdown",
      "source": [
        "# Question A"
      ],
      "metadata": {
        "id": "CLUmVFVHtnwM"
      }
    },
    {
      "cell_type": "markdown",
      "source": [
        "How much data is present?\n",
        "Ans."
      ],
      "metadata": {
        "id": "bRBTxBllt3bl"
      }
    },
    {
      "cell_type": "code",
      "source": [
        "# Get the number of rows and columns\n",
        "num_rows, num_columns = data.shape\n",
        "\n",
        "# Get a statistical summary of the numerical columns\n",
        "data_summary = data.describe()\n",
        "\n",
        "print(f\"Number of rows: {num_rows}\")\n",
        "print(f\"Number of columns: {num_columns}\")\n",
        "print(\"\\nStatistical Summary:\")\n",
        "print(data_summary)"
      ],
      "metadata": {
        "colab": {
          "base_uri": "https://localhost:8080/"
        },
        "id": "kawSWl5XrRok",
        "outputId": "f67efeec-87ae-483e-8dd0-9642a10cf746"
      },
      "execution_count": null,
      "outputs": [
        {
          "output_type": "stream",
          "name": "stdout",
          "text": [
            "<class 'pandas.core.frame.DataFrame'>\n",
            "RangeIndex: 1949 entries, 0 to 1948\n",
            "Data columns (total 11 columns):\n",
            " #   Column                            Non-Null Count  Dtype  \n",
            "---  ------                            --------------  -----  \n",
            " 0   Country name                      1949 non-null   object \n",
            " 1   year                              1949 non-null   int64  \n",
            " 2   Life Ladder                       1949 non-null   float64\n",
            " 3   Log GDP per capita                1913 non-null   float64\n",
            " 4   Social support                    1936 non-null   float64\n",
            " 5   Healthy life expectancy at birth  1894 non-null   float64\n",
            " 6   Freedom to make life choices      1917 non-null   float64\n",
            " 7   Generosity                        1860 non-null   float64\n",
            " 8   Perceptions of corruption         1839 non-null   float64\n",
            " 9   Positive affect                   1927 non-null   float64\n",
            " 10  Negative affect                   1933 non-null   float64\n",
            "dtypes: float64(9), int64(1), object(1)\n",
            "memory usage: 167.6+ KB\n",
            "Number of rows: 1949\n",
            "Number of columns: 11\n",
            "\n",
            "Statistical Summary:\n",
            "              year  Life Ladder  Log GDP per capita  Social support  \\\n",
            "count  1949.000000  1949.000000         1913.000000     1936.000000   \n",
            "mean   2013.216008     5.466705            9.368453        0.812552   \n",
            "std       4.166828     1.115711            1.154084        0.118482   \n",
            "min    2005.000000     2.375000            6.635000        0.290000   \n",
            "25%    2010.000000     4.640000            8.464000        0.749750   \n",
            "50%    2013.000000     5.386000            9.460000        0.835500   \n",
            "75%    2017.000000     6.283000           10.353000        0.905000   \n",
            "max    2020.000000     8.019000           11.648000        0.987000   \n",
            "\n",
            "       Healthy life expectancy at birth  Freedom to make life choices  \\\n",
            "count                       1894.000000                   1917.000000   \n",
            "mean                          63.359374                      0.742558   \n",
            "std                            7.510245                      0.142093   \n",
            "min                           32.300000                      0.258000   \n",
            "25%                           58.685000                      0.647000   \n",
            "50%                           65.200000                      0.763000   \n",
            "75%                           68.590000                      0.856000   \n",
            "max                           77.100000                      0.985000   \n",
            "\n",
            "        Generosity  Perceptions of corruption  Positive affect  \\\n",
            "count  1860.000000                1839.000000      1927.000000   \n",
            "mean      0.000103                   0.747125         0.710003   \n",
            "std       0.162215                   0.186789         0.107100   \n",
            "min      -0.335000                   0.035000         0.322000   \n",
            "25%      -0.113000                   0.690000         0.625500   \n",
            "50%      -0.025500                   0.802000         0.722000   \n",
            "75%       0.091000                   0.872000         0.799000   \n",
            "max       0.698000                   0.983000         0.944000   \n",
            "\n",
            "       Negative affect  \n",
            "count      1933.000000  \n",
            "mean          0.268544  \n",
            "std           0.085168  \n",
            "min           0.083000  \n",
            "25%           0.206000  \n",
            "50%           0.258000  \n",
            "75%           0.320000  \n",
            "max           0.705000  \n"
          ]
        }
      ]
    },
    {
      "cell_type": "code",
      "source": [],
      "metadata": {
        "id": "gDDYcl3Rsp0t"
      },
      "execution_count": null,
      "outputs": []
    }
  ]
}